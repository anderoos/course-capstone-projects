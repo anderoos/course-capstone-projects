{
 "cells": [
  {
   "cell_type": "markdown",
   "id": "d593fcac-0b86-4478-b941-d547cb21747a",
   "metadata": {},
   "source": [
    "# Data Tidying Notebook"
   ]
  },
  {
   "cell_type": "code",
   "execution_count": 1,
   "id": "3c269779-c739-4e46-88a2-e0da108b9152",
   "metadata": {},
   "outputs": [],
   "source": [
    "import pandas as pd\n",
    "import numpy as np\n",
    "import matplotlib.pyplot as plt\n",
    "import seaborn as sns\n",
    "import re\n",
    "\n",
    "import warnings\n",
    "warnings.filterwarnings('ignore')"
   ]
  },
  {
   "cell_type": "code",
   "execution_count": 2,
   "id": "030bf246-4002-4a28-8dd9-4f0383fc7427",
   "metadata": {},
   "outputs": [
    {
     "data": {
      "text/html": [
       "<div>\n",
       "<style scoped>\n",
       "    .dataframe tbody tr th:only-of-type {\n",
       "        vertical-align: middle;\n",
       "    }\n",
       "\n",
       "    .dataframe tbody tr th {\n",
       "        vertical-align: top;\n",
       "    }\n",
       "\n",
       "    .dataframe thead th {\n",
       "        text-align: right;\n",
       "    }\n",
       "</style>\n",
       "<table border=\"1\" class=\"dataframe\">\n",
       "  <thead>\n",
       "    <tr style=\"text-align: right;\">\n",
       "      <th></th>\n",
       "      <th>RespondentID</th>\n",
       "      <th>Year</th>\n",
       "      <th>Country</th>\n",
       "      <th>Employment</th>\n",
       "      <th>UndergradMajor</th>\n",
       "      <th>DevType</th>\n",
       "      <th>LanguageWorkedWith</th>\n",
       "      <th>LanguageDesireNextYear</th>\n",
       "      <th>DatabaseWorkedWith</th>\n",
       "      <th>DatabaseDesireNextYear</th>\n",
       "      <th>...</th>\n",
       "      <th>PlatformDesireNextYear</th>\n",
       "      <th>Hobbyist</th>\n",
       "      <th>OrgSize</th>\n",
       "      <th>YearsCodePro</th>\n",
       "      <th>JobSeek</th>\n",
       "      <th>ConvertedComp</th>\n",
       "      <th>WorkWeekHrs</th>\n",
       "      <th>NEWJobHunt</th>\n",
       "      <th>NEWJobHuntResearch</th>\n",
       "      <th>NEWLearn</th>\n",
       "    </tr>\n",
       "  </thead>\n",
       "  <tbody>\n",
       "    <tr>\n",
       "      <th>0</th>\n",
       "      <td>1</td>\n",
       "      <td>2018</td>\n",
       "      <td>United States</td>\n",
       "      <td>Employed full-time</td>\n",
       "      <td>Computer science, computer engineering, or sof...</td>\n",
       "      <td>Engineering manager;Full-stack developer</td>\n",
       "      <td>NaN</td>\n",
       "      <td>NaN</td>\n",
       "      <td>NaN</td>\n",
       "      <td>NaN</td>\n",
       "      <td>...</td>\n",
       "      <td>NaN</td>\n",
       "      <td>NaN</td>\n",
       "      <td>NaN</td>\n",
       "      <td>NaN</td>\n",
       "      <td>NaN</td>\n",
       "      <td>141000.0</td>\n",
       "      <td>NaN</td>\n",
       "      <td>NaN</td>\n",
       "      <td>NaN</td>\n",
       "      <td>NaN</td>\n",
       "    </tr>\n",
       "    <tr>\n",
       "      <th>1</th>\n",
       "      <td>1</td>\n",
       "      <td>2019</td>\n",
       "      <td>United States</td>\n",
       "      <td>Employed full-time</td>\n",
       "      <td>Computer science, computer engineering, or sof...</td>\n",
       "      <td>Developer, full-stack</td>\n",
       "      <td>C;C++;C#;Python;SQL</td>\n",
       "      <td>C;C#;JavaScript;SQL</td>\n",
       "      <td>MySQL;SQLite</td>\n",
       "      <td>MySQL;SQLite</td>\n",
       "      <td>...</td>\n",
       "      <td>Linux;Windows</td>\n",
       "      <td>No</td>\n",
       "      <td>100 to 499 employees</td>\n",
       "      <td>1.0</td>\n",
       "      <td>I am not interested in new job opportunities</td>\n",
       "      <td>61000.0</td>\n",
       "      <td>80.0</td>\n",
       "      <td>NaN</td>\n",
       "      <td>NaN</td>\n",
       "      <td>NaN</td>\n",
       "    </tr>\n",
       "    <tr>\n",
       "      <th>2</th>\n",
       "      <td>1</td>\n",
       "      <td>2020</td>\n",
       "      <td>United States</td>\n",
       "      <td>Employed full-time</td>\n",
       "      <td>Computer science, computer engineering, or sof...</td>\n",
       "      <td>NaN</td>\n",
       "      <td>HTML/CSS;Ruby;SQL</td>\n",
       "      <td>Java;Ruby;Scala</td>\n",
       "      <td>MySQL;PostgreSQL;Redis;SQLite</td>\n",
       "      <td>MySQL;PostgreSQL</td>\n",
       "      <td>...</td>\n",
       "      <td>Docker;Google Cloud Platform;Heroku;Linux;Windows</td>\n",
       "      <td>Yes</td>\n",
       "      <td>NaN</td>\n",
       "      <td>8.0</td>\n",
       "      <td>NaN</td>\n",
       "      <td>NaN</td>\n",
       "      <td>NaN</td>\n",
       "      <td>NaN</td>\n",
       "      <td>NaN</td>\n",
       "      <td>Once a year</td>\n",
       "    </tr>\n",
       "    <tr>\n",
       "      <th>3</th>\n",
       "      <td>2</td>\n",
       "      <td>2018</td>\n",
       "      <td>United States</td>\n",
       "      <td>Employed full-time</td>\n",
       "      <td>Computer science, computer engineering, or sof...</td>\n",
       "      <td>Full-stack developer</td>\n",
       "      <td>C#;JavaScript;SQL;TypeScript;HTML;CSS;Bash/Shell</td>\n",
       "      <td>C#;JavaScript;SQL;TypeScript;HTML;CSS;Bash/Shell</td>\n",
       "      <td>SQL Server;Microsoft Azure (Tables, CosmosDB, ...</td>\n",
       "      <td>SQL Server;Microsoft Azure (Tables, CosmosDB, ...</td>\n",
       "      <td>...</td>\n",
       "      <td>Azure</td>\n",
       "      <td>NaN</td>\n",
       "      <td>NaN</td>\n",
       "      <td>4.0</td>\n",
       "      <td>NaN</td>\n",
       "      <td>48000.0</td>\n",
       "      <td>NaN</td>\n",
       "      <td>NaN</td>\n",
       "      <td>NaN</td>\n",
       "      <td>NaN</td>\n",
       "    </tr>\n",
       "    <tr>\n",
       "      <th>4</th>\n",
       "      <td>2</td>\n",
       "      <td>2019</td>\n",
       "      <td>United States</td>\n",
       "      <td>Employed full-time</td>\n",
       "      <td>Computer science, computer engineering, or sof...</td>\n",
       "      <td>Data or business analyst;Database administrato...</td>\n",
       "      <td>Bash/Shell/PowerShell;HTML/CSS;JavaScript;PHP;...</td>\n",
       "      <td>Bash/Shell/PowerShell;HTML/CSS;JavaScript;Rust...</td>\n",
       "      <td>Couchbase;DynamoDB;Firebase;MySQL</td>\n",
       "      <td>Firebase;MySQL;Redis</td>\n",
       "      <td>...</td>\n",
       "      <td>Android;AWS;Docker;IBM Cloud or Watson;Linux;S...</td>\n",
       "      <td>Yes</td>\n",
       "      <td>10 to 19 employees</td>\n",
       "      <td>8.0</td>\n",
       "      <td>I am not interested in new job opportunities</td>\n",
       "      <td>90000.0</td>\n",
       "      <td>40.0</td>\n",
       "      <td>NaN</td>\n",
       "      <td>NaN</td>\n",
       "      <td>NaN</td>\n",
       "    </tr>\n",
       "  </tbody>\n",
       "</table>\n",
       "<p>5 rows × 21 columns</p>\n",
       "</div>"
      ],
      "text/plain": [
       "   RespondentID  Year        Country          Employment  \\\n",
       "0             1  2018  United States  Employed full-time   \n",
       "1             1  2019  United States  Employed full-time   \n",
       "2             1  2020  United States  Employed full-time   \n",
       "3             2  2018  United States  Employed full-time   \n",
       "4             2  2019  United States  Employed full-time   \n",
       "\n",
       "                                      UndergradMajor  \\\n",
       "0  Computer science, computer engineering, or sof...   \n",
       "1  Computer science, computer engineering, or sof...   \n",
       "2  Computer science, computer engineering, or sof...   \n",
       "3  Computer science, computer engineering, or sof...   \n",
       "4  Computer science, computer engineering, or sof...   \n",
       "\n",
       "                                             DevType  \\\n",
       "0           Engineering manager;Full-stack developer   \n",
       "1                              Developer, full-stack   \n",
       "2                                                NaN   \n",
       "3                               Full-stack developer   \n",
       "4  Data or business analyst;Database administrato...   \n",
       "\n",
       "                                  LanguageWorkedWith  \\\n",
       "0                                                NaN   \n",
       "1                                C;C++;C#;Python;SQL   \n",
       "2                                  HTML/CSS;Ruby;SQL   \n",
       "3   C#;JavaScript;SQL;TypeScript;HTML;CSS;Bash/Shell   \n",
       "4  Bash/Shell/PowerShell;HTML/CSS;JavaScript;PHP;...   \n",
       "\n",
       "                              LanguageDesireNextYear  \\\n",
       "0                                                NaN   \n",
       "1                                C;C#;JavaScript;SQL   \n",
       "2                                    Java;Ruby;Scala   \n",
       "3   C#;JavaScript;SQL;TypeScript;HTML;CSS;Bash/Shell   \n",
       "4  Bash/Shell/PowerShell;HTML/CSS;JavaScript;Rust...   \n",
       "\n",
       "                                  DatabaseWorkedWith  \\\n",
       "0                                                NaN   \n",
       "1                                       MySQL;SQLite   \n",
       "2                      MySQL;PostgreSQL;Redis;SQLite   \n",
       "3  SQL Server;Microsoft Azure (Tables, CosmosDB, ...   \n",
       "4                  Couchbase;DynamoDB;Firebase;MySQL   \n",
       "\n",
       "                              DatabaseDesireNextYear  ...  \\\n",
       "0                                                NaN  ...   \n",
       "1                                       MySQL;SQLite  ...   \n",
       "2                                   MySQL;PostgreSQL  ...   \n",
       "3  SQL Server;Microsoft Azure (Tables, CosmosDB, ...  ...   \n",
       "4                               Firebase;MySQL;Redis  ...   \n",
       "\n",
       "                              PlatformDesireNextYear Hobbyist  \\\n",
       "0                                                NaN      NaN   \n",
       "1                                      Linux;Windows       No   \n",
       "2  Docker;Google Cloud Platform;Heroku;Linux;Windows      Yes   \n",
       "3                                              Azure      NaN   \n",
       "4  Android;AWS;Docker;IBM Cloud or Watson;Linux;S...      Yes   \n",
       "\n",
       "                OrgSize YearsCodePro  \\\n",
       "0                   NaN          NaN   \n",
       "1  100 to 499 employees          1.0   \n",
       "2                   NaN          8.0   \n",
       "3                   NaN          4.0   \n",
       "4    10 to 19 employees          8.0   \n",
       "\n",
       "                                        JobSeek ConvertedComp  WorkWeekHrs  \\\n",
       "0                                           NaN      141000.0          NaN   \n",
       "1  I am not interested in new job opportunities       61000.0         80.0   \n",
       "2                                           NaN           NaN          NaN   \n",
       "3                                           NaN       48000.0          NaN   \n",
       "4  I am not interested in new job opportunities       90000.0         40.0   \n",
       "\n",
       "   NEWJobHunt NEWJobHuntResearch     NEWLearn  \n",
       "0         NaN                NaN          NaN  \n",
       "1         NaN                NaN          NaN  \n",
       "2         NaN                NaN  Once a year  \n",
       "3         NaN                NaN          NaN  \n",
       "4         NaN                NaN          NaN  \n",
       "\n",
       "[5 rows x 21 columns]"
      ]
     },
     "execution_count": 2,
     "metadata": {},
     "output_type": "execute_result"
    }
   ],
   "source": [
    "# Load dataset\n",
    "df_main = pd.read_csv('developer_dataset.csv')\n",
    "df_main.head()"
   ]
  },
  {
   "cell_type": "code",
   "execution_count": 3,
   "id": "cb0333d7-a9a4-49cb-8152-5b8426ed3f9c",
   "metadata": {},
   "outputs": [
    {
     "data": {
      "text/plain": [
       "NEWJobHuntResearch        0.832001\n",
       "NEWJobHunt                0.828009\n",
       "NEWLearn                  0.782158\n",
       "WorkWeekHrs               0.540604\n",
       "OrgSize                   0.507198\n",
       "JobSeek                   0.455476\n",
       "Hobbyist                  0.385373\n",
       "DatabaseDesireNextYear    0.332482\n",
       "PlatformDesireNextYear    0.232292\n",
       "DatabaseWorkedWith        0.227949\n",
       "ConvertedComp             0.178727\n",
       "PlatformWorkedWith        0.176245\n",
       "YearsCodePro              0.147614\n",
       "LanguageDesireNextYear    0.136365\n",
       "UndergradMajor            0.114703\n",
       "DevType                   0.096899\n",
       "LanguageWorkedWith        0.082646\n",
       "Employment                0.016042\n",
       "Country                   0.000000\n",
       "Year                      0.000000\n",
       "RespondentID              0.000000\n",
       "dtype: float64"
      ]
     },
     "execution_count": 3,
     "metadata": {},
     "output_type": "execute_result"
    }
   ],
   "source": [
    "# Missing values rate\n",
    "1 - (df_main.count().sort_values()) / len(df_main.RespondentID)"
   ]
  },
  {
   "cell_type": "code",
   "execution_count": 4,
   "id": "e375584b-4a24-47d8-a246-31153c566aa8",
   "metadata": {},
   "outputs": [],
   "source": [
    "# Drop columns where 60% values are NA\n",
    "df_main = df_main.dropna(thresh=len(df_main.RespondentID)*0.4, axis=1)"
   ]
  },
  {
   "cell_type": "code",
   "execution_count": 5,
   "id": "00b33868-2a10-4578-b88f-d4520f6023cb",
   "metadata": {},
   "outputs": [
    {
     "data": {
      "text/plain": [
       "WorkWeekHrs               0.540604\n",
       "OrgSize                   0.507198\n",
       "JobSeek                   0.455476\n",
       "Hobbyist                  0.385373\n",
       "DatabaseDesireNextYear    0.332482\n",
       "PlatformDesireNextYear    0.232292\n",
       "DatabaseWorkedWith        0.227949\n",
       "ConvertedComp             0.178727\n",
       "PlatformWorkedWith        0.176245\n",
       "YearsCodePro              0.147614\n",
       "LanguageDesireNextYear    0.136365\n",
       "UndergradMajor            0.114703\n",
       "DevType                   0.096899\n",
       "LanguageWorkedWith        0.082646\n",
       "Employment                0.016042\n",
       "Country                   0.000000\n",
       "Year                      0.000000\n",
       "RespondentID              0.000000\n",
       "dtype: float64"
      ]
     },
     "execution_count": 5,
     "metadata": {},
     "output_type": "execute_result"
    }
   ],
   "source": [
    "# View NA values after dropping NA values\n",
    "1 - (df_main.count().sort_values()) / len(df_main.RespondentID)"
   ]
  },
  {
   "cell_type": "code",
   "execution_count": 6,
   "id": "cc5b3f38-8beb-4cc2-a869-fa40d5c83c30",
   "metadata": {},
   "outputs": [],
   "source": [
    "# Iterate through columns to ID unique values\n",
    "# for col in df_main.columns:\n",
    "#     print(f'\\n {col} :\\n {df_main.loc[:,col].value_counts(dropna=False, normalize=True)}')"
   ]
  },
  {
   "cell_type": "code",
   "execution_count": null,
   "id": "ee1ec863-229b-43d5-a8cd-92eb629ff973",
   "metadata": {},
   "outputs": [],
   "source": [
    "# Cleaning by Highest % NaN\n",
    "# Safe assumption that hours per week above 200 were mistyped, and safe to divide by 10. Round all values to nearest 5th.\n",
    "for index, row in df_main.iterrows():\n",
    "    if row['WorkWeekHrs'] > 200:\n",
    "        df_main.at[index, 'WorkWeekHrs'] = df_main.at[index, 'WorkWeekHrs']/ 10\n",
    "    df_main.at[index, 'WorkWeekHrs'] = 5 * round(df_main.at[index, 'WorkWeekHrs']/5, 0)\n",
    "# df_main.WorkWeekHrs.value_counts(dropna=False, normalize=True)\n",
    "sns.displot(df_main.WorkWeekHrs)"
   ]
  },
  {
   "cell_type": "code",
   "execution_count": null,
   "id": "be5fc11a-1681-479b-89aa-229dee59b7d0",
   "metadata": {},
   "outputs": [],
   "source": [
    "# Checking OrgSize\n",
    "# df_main.OrgSize.value_counts(dropna=False, normalize=True)\n",
    "df_main.drop('OrgSize', inplace=True, axis=1)"
   ]
  },
  {
   "cell_type": "code",
   "execution_count": null,
   "id": "0ef02ad9-7c91-40e0-98a4-f6f52ff34b56",
   "metadata": {},
   "outputs": [],
   "source": [
    "# Checking JobSeek\n",
    "df_main.JobSeek.value_counts(dropna=False, normalize=True)\n",
    "sns.displot(df_main.JobSeek)"
   ]
  },
  {
   "cell_type": "code",
   "execution_count": null,
   "id": "630f86f5-1b4b-4148-994e-f1cd14b667e9",
   "metadata": {},
   "outputs": [],
   "source": [
    "# Hobbyist - not interested \n",
    "df_main.drop('Hobbyist', inplace=True, axis=1)"
   ]
  },
  {
   "cell_type": "code",
   "execution_count": null,
   "id": "a2f5bdac-1952-4f6a-8949-cfdf795f1f12",
   "metadata": {},
   "outputs": [],
   "source": [
    "# Allow for one response only in DatabaseDesireNextYear\n",
    "# df_main['DatabaseDesireNextYear'] = df_main['DatabaseDesireNextYear'].apply(lambda x: x if pd.isna(x) else re.sub(r';.*$', '', x))"
   ]
  },
  {
   "cell_type": "code",
   "execution_count": null,
   "id": "1b1de4bc-998d-4d15-be98-9fb3bf6ed3e7",
   "metadata": {},
   "outputs": [],
   "source": [
    "# Allow for one response only in PlatformDesireNextYear\n",
    "# df_main['PlatformDesireNextYear'] = df_main['PlatformDesireNextYear'].apply(lambda x: x if pd.isna(x) else re.sub(r';.*$', '', x))"
   ]
  },
  {
   "cell_type": "code",
   "execution_count": null,
   "id": "0b56ab62-135c-492c-980d-ae02edfcd82c",
   "metadata": {},
   "outputs": [],
   "source": [
    "# Checking DatabaseWorkedWith, allowing for one resposne\n",
    "# df_main['DatabaseWorkedWith'] = df_main['DatabaseWorkedWith'].apply(lambda x: x if pd.isna(x) else re.sub(r';.*$', '', x))"
   ]
  },
  {
   "cell_type": "code",
   "execution_count": null,
   "id": "92006027-b919-40c7-84e4-51d0f33f6c55",
   "metadata": {},
   "outputs": [],
   "source": [
    "# Convert ConvertedComp to the nearest 100000\n",
    "df_main.ConvertedComp.value_counts(dropna=False, normalize=True)\n",
    "for index, row in df_main.iterrows():\n",
    "    df_main.at[index, 'ConvertedComp'] = 10000 * round(df_main.at[index, 'ConvertedComp']/10000, 0)"
   ]
  },
  {
   "cell_type": "code",
   "execution_count": null,
   "id": "6a5cf9ef-97d6-485b-81cc-db55e28d79e0",
   "metadata": {},
   "outputs": [],
   "source": [
    "# Checking PlatformWorkedWith, allow for one response\n",
    "# df_main['PlatformWorkedWith'] = df_main['PlatformWorkedWith'].apply(lambda x: x if pd.isna(x) else re.sub(r';.*$', '', x))"
   ]
  },
  {
   "cell_type": "code",
   "execution_count": null,
   "id": "1679fa34-cbea-4cbf-92ff-bc9298638fc8",
   "metadata": {},
   "outputs": [],
   "source": [
    "# YearsCodePro\n",
    "df_main.YearsCodePro.value_counts(dropna=False, normalize=True)\n",
    "sns.displot(df_main.YearsCodePro)\n",
    "plt.show()\n",
    "plt.clf()"
   ]
  },
  {
   "cell_type": "code",
   "execution_count": null,
   "id": "3cc8ab85-6f5e-42a4-ab8d-e2d688e869d2",
   "metadata": {},
   "outputs": [],
   "source": [
    "df_main.YearsCodePro.value_counts(dropna=False, normalize=True)"
   ]
  },
  {
   "cell_type": "code",
   "execution_count": null,
   "id": "d75fe452-e817-42e1-9731-aedb81a6dc66",
   "metadata": {},
   "outputs": [],
   "source": [
    "# Checking LanguageDesireNextYear, allow for one response\n",
    "# df_main['LanguageDesireNextYear'] = df_main['LanguageDesireNextYear'].apply(lambda x: x if pd.isna(x) else re.sub(r';.*$', '', x))\n",
    "df_main.LanguageDesireNextYear.value_counts(dropna=False, normalize=True)"
   ]
  },
  {
   "cell_type": "code",
   "execution_count": null,
   "id": "d2ee3843-291e-42e4-b517-7109ccd3e9b7",
   "metadata": {},
   "outputs": [],
   "source": [
    "# Checkign UndergradMajor, renaming for clarity\n",
    "df_main['UndergradMajor'] = df_main['UndergradMajor'].replace('Computer science, computer engineering, or software engineering', 'CompSci')\n",
    "df_main['UndergradMajor'] = df_main['UndergradMajor'].replace('Information systems, information technology, or system administration', 'IT')\n",
    "df_main['UndergradMajor'] = df_main['UndergradMajor'].replace('Mathematics or statistics', 'Mathematics')\n",
    "df_main['UndergradMajor'] = df_main['UndergradMajor'].replace('A natural science (ex. biology, chemistry, physics)', 'Natural Sciences')\n",
    "df_main['UndergradMajor'] = df_main['UndergradMajor'].replace('A natural science (such as biology, chemistry, physics, etc.)', 'Natural Sciences')\n",
    "df_main['UndergradMajor'] = df_main['UndergradMajor'].replace('A health science (ex. nursing, pharmacy, radiology)', 'Health Sciences')\n",
    "df_main['UndergradMajor'] = df_main['UndergradMajor'].replace('A health science (such as nursing, pharmacy, radiology, etc.)', 'Health Sciences')\n",
    "df_main['UndergradMajor'] = df_main['UndergradMajor'].replace('A social science (such as anthropology, psychology, political science, etc.)', 'Social Sciences')\n",
    "df_main['UndergradMajor'] = df_main['UndergradMajor'].replace('Fine arts or performing arts (such as graphic design, music, studio art, etc.)', 'Arts')\n",
    "df_main['UndergradMajor'] = df_main['UndergradMajor'].replace('Web development or web design', 'UI/ UX')\n",
    "df_main['UndergradMajor'] = df_main['UndergradMajor'].replace('A humanities discipline (ex. literature, history, philosophy)', 'Humanities')\n",
    "df_main['UndergradMajor'] = df_main['UndergradMajor'].replace('A social science (ex. anthropology, psychology, political science) ', 'Social Sciences')\n",
    "df_main['UndergradMajor'] = df_main['UndergradMajor'].replace('Fine arts or performing arts (ex. graphic design, music, studio art)', 'Arts')\n",
    "df_main['UndergradMajor'] = df_main['UndergradMajor'].replace('A business discipline (ex. accounting, finance, marketing)', 'Business')\n",
    "df_main['UndergradMajor'] = df_main['UndergradMajor'].replace('A business discipline (such as accounting, finance, marketing, etc.)', 'Business')\n",
    "df_main['UndergradMajor'] = df_main['UndergradMajor'].replace('A social science (ex. anthropology, psychology, political science)', 'Social Sciences')\n",
    "df_main['UndergradMajor'] = df_main['UndergradMajor'].replace('Another engineering discipline (such as civil, electrical, mechanical, etc.)', 'Engineering')\n",
    "df_main['UndergradMajor'] = df_main['UndergradMajor'].replace('Another engineering discipline (ex. civil, electrical, mechanical)', 'Engineering')\n",
    "df_main['UndergradMajor'] = df_main['UndergradMajor'].replace('A humanities discipline (such as literature, history, philosophy, etc.)', 'Humanities')\n",
    "df_main['UndergradMajor'] = df_main['UndergradMajor'].replace('I never declared a major', 'Undeclared')\n",
    "df_main.UndergradMajor.value_counts(dropna=False, normalize=True)"
   ]
  },
  {
   "cell_type": "code",
   "execution_count": null,
   "id": "a79c3e60-9443-4bc8-816a-17aba06d0c35",
   "metadata": {},
   "outputs": [],
   "source": [
    "# Checking DevType, keep first, aggregate\n",
    "df_main['DevType'] = df_main['DevType'].apply(lambda x: x if pd.isna(x) else re.sub(r';.*$', '', x))\n",
    "df_main['DevType'] = df_main['DevType'].replace('Back-end developer', 'Developer, back-end')\n",
    "df_main['DevType'] = df_main['DevType'].replace('Full-stack developer', 'Developer, full-stack')\n",
    "df_main['DevType'] = df_main['DevType'].replace('Scientist', 'Academic researcher')\n",
    "df_main['DevType'] = df_main['DevType'].replace('Front-end developer', 'Developer, front-end')\n",
    "df_main['DevType'] = df_main['DevType'].replace('Front-end developer', 'Developer, front-end')\n",
    "df_main['DevType'] = df_main['DevType'].replace('Data scientist or machine learning specialist', 'Data Scientist')\n",
    "df_main['DevType'] = df_main['DevType'].replace('Desktop or enterprise applications developer', 'Developer, desktop or enterprise applications')\n",
    "df_main['DevType'] = df_main['DevType'].replace('Mobile developer', 'Developer, mobile')\n",
    "df_main['DevType'] = df_main['DevType'].replace('Embedded applications or devices developer', 'Developer, embedded applications or devices')\n",
    "df_main['DevType'] = df_main['DevType'].replace('Educator', 'Academic researcher')\n",
    "df_main['DevType'] = df_main['DevType'].replace('QA or test developer', 'Developer, QA or test')\n",
    "df_main['DevType'] = df_main['DevType'].replace('Product manager', 'Academic researcher')\n",
    "df_main['DevType'] = df_main['DevType'].replace('Educator or academic researcher', 'Marketing or sales professional')\n",
    "df_main['DevType'] = df_main['DevType'].replace('Educator or academic researcher', 'Academic researcher')\n",
    "df_main.DevType.value_counts(dropna=False, normalize=True)"
   ]
  },
  {
   "cell_type": "code",
   "execution_count": null,
   "id": "71d95a01-6388-4d9a-84fa-cf7f0ef56d19",
   "metadata": {},
   "outputs": [],
   "source": [
    "# Checking LanguageWorkedWith, again dropping except first\n",
    "df_main['LanguageWorkedWith'] = df_main['LanguageWorkedWith'].apply(lambda x: x if pd.isna(x) else re.sub(r';.*$', '', x))\n",
    "df_main.LanguageWorkedWith.value_counts(dropna=False, normalize=True)"
   ]
  },
  {
   "cell_type": "code",
   "execution_count": null,
   "id": "11160577-203f-4d93-9148-9e01b1616a57",
   "metadata": {},
   "outputs": [],
   "source": [
    "# Before dropping additional values\n",
    "df_main.info()"
   ]
  },
  {
   "cell_type": "code",
   "execution_count": null,
   "id": "5bef8be0-5aab-4bbd-bbaa-ab284f7de909",
   "metadata": {
    "scrolled": true
   },
   "outputs": [],
   "source": [
    "# Drop rows with majority NaN Information\n",
    "df_main = df_main.dropna(thresh=len(df_main.columns)*0.6, axis=0)\n",
    "df_main.info()"
   ]
  },
  {
   "cell_type": "code",
   "execution_count": null,
   "id": "3b83ead6-119e-43d7-b811-f756d6139c36",
   "metadata": {},
   "outputs": [],
   "source": [
    "# Missing Data Rate\n",
    "1 - (df_main.count().sort_values()) / len(df_main.RespondentID)"
   ]
  },
  {
   "cell_type": "code",
   "execution_count": null,
   "id": "afcdf2a2-f8b2-487d-8441-a23b0541532e",
   "metadata": {},
   "outputs": [],
   "source": [
    "df_main.to_csv('developer_dataset_clean.csv', encoding='utf8')"
   ]
  },
  {
   "cell_type": "code",
   "execution_count": null,
   "id": "6c8a34d9-91c2-41e7-bd1f-d46561d33f4d",
   "metadata": {},
   "outputs": [],
   "source": [
    "df_main.head()"
   ]
  }
 ],
 "metadata": {
  "kernelspec": {
   "display_name": "Python 3 (ipykernel)",
   "language": "python",
   "name": "python3"
  },
  "language_info": {
   "codemirror_mode": {
    "name": "ipython",
    "version": 3
   },
   "file_extension": ".py",
   "mimetype": "text/x-python",
   "name": "python",
   "nbconvert_exporter": "python",
   "pygments_lexer": "ipython3",
   "version": "3.11.5"
  }
 },
 "nbformat": 4,
 "nbformat_minor": 5
}
