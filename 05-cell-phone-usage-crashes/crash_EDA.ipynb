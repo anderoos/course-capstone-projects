{
 "cells": [
  {
   "cell_type": "markdown",
   "metadata": {
    "id": "bpk993-NZmOa"
   },
   "source": [
    "# Did the rise of smartphone usage in the U.S. cause an increase in car accidents?\n",
    "\n",
    "## A Causal Inference Project\n",
    "\n",
    "\n",
    "*This notebook contains the EDA for the project. The causal inference analysis was performed with R packages and are available in a `.Rmd` file.*"
   ]
  },
  {
   "cell_type": "markdown",
   "metadata": {
    "id": "-_-ACXsIrHgb"
   },
   "source": [
    "### Goals & Introduction\n",
    "\n",
    "Driving around these days, it feels like there are more car crashes and more crash-related traffic than there used to be. It also feels like everyone is distracted all the time. Peering into other cars during traffic jams will almost always reveal the other drivers using their smart phones. It is well-known that distracted driving is dangerous, but most people still have their phones nearby when they are driving and will at least glance at them while they are stopped at red-lights or in stop-and-go traffic. \n",
    "\n",
    "Together, these observations led to the question: **Has smartphone usage caused a measurable increase in the number of traffic accidents in the U.S.?** \n",
    "\n",
    "This is a question that cannot be answered through experimentation, as it would be highly unethical to ask a group of people to use their phones when driving. However, causal inference methods may allow observational data to be used to determine whether smartphones caused an increase in the number of car accidents.\n",
    "\n",
    "\n",
    "#### Data Sources\n",
    "\n",
    "This analysis uses publicly available data collected by the National Highway Traffic Safety Administration (NHTSA) and the Pew Research Center. \n",
    "* The NHTSA collects data on car accidents that happen in the United States each month and classifies them as \"Fatal\", \"Injury-causing\", and \"Property-damaging\". The NHTSA data for this analysis was downloaded from: https://cdan.nhtsa.gov/query. \n",
    "* The Pew Research Center studies many facets of society, including the rising use of cell phones and smartphones. By conducting randomized surveys, they can estimate the proportion of adult Americans that own and use cellphones and/or smartphones. The cellphone surveys were launched in 2002, but the follow-up question about whether the cellphone being used is a smartphone was not added until 2011. These data were downloaded from: https://www.pewresearch.org/internet/fact-sheet/mobile/.  \n",
    "\n",
    "\n"
   ]
  },
  {
   "cell_type": "markdown",
   "metadata": {
    "id": "7ppWLt_7vjD-"
   },
   "source": [
    "### Load libraries and data"
   ]
  },
  {
   "cell_type": "code",
   "execution_count": 1,
   "metadata": {
    "id": "ZhfIxXXjZnhN",
    "ExecuteTime": {
     "end_time": "2023-11-13T20:42:52.100959Z",
     "start_time": "2023-11-13T20:42:52.077136Z"
    }
   },
   "outputs": [],
   "source": [
    "import pandas as pd\n",
    "import seaborn as sns\n",
    "import matplotlib.pyplot as plt\n",
    "import numpy as np\n",
    "import datetime as dt\n",
    "%matplotlib inline "
   ]
  },
  {
   "cell_type": "code",
   "execution_count": 2,
   "metadata": {
    "id": "HnEx4_WKbTYc",
    "ExecuteTime": {
     "end_time": "2023-11-13T20:42:52.129793Z",
     "start_time": "2023-11-13T20:42:52.100868Z"
    }
   },
   "outputs": [],
   "source": [
    "crash_data = pd.read_csv(\"crash_by_month.csv\") # annual crash data from NHTSA\n",
    "phone_data = pd.read_csv(\"PEW_CellPhoneUsage.csv\") # cellphone usage data from the Pew Research Center"
   ]
  },
  {
   "cell_type": "markdown",
   "metadata": {
    "id": "1-4q44Tvv5Yr"
   },
   "source": [
    "### Data structure and characteristics "
   ]
  },
  {
   "cell_type": "code",
   "execution_count": 3,
   "metadata": {
    "colab": {
     "base_uri": "https://localhost:8080/",
     "height": 270
    },
    "executionInfo": {
     "elapsed": 320,
     "status": "ok",
     "timestamp": 1661206116490,
     "user": {
      "displayName": "Maggi Mars",
      "userId": "15664582298795720795"
     },
     "user_tz": 240
    },
    "id": "s29ZPLe5cLs-",
    "outputId": "347c9cc6-de76-4c1b-e16c-6a62eb738973",
    "ExecuteTime": {
     "end_time": "2023-11-13T20:42:56.042118Z",
     "start_time": "2023-11-13T20:42:56.025319Z"
    }
   },
   "outputs": [
    {
     "data": {
      "text/plain": "   year  January  February  March  April   May  June  July  August  September  \\\n0  2006     2931      2695   3042   3138  3345  3383  3527    3474       3348   \n1  2007     2732      2618   3092   3041  3312  3281  3460    3325       3235   \n2  2008     2575      2586   2549   2722  2887  3029  3018    3224       2860   \n3  2009     2377      2167   2349   2592  2780  2750  2787    2865       2650   \n4  2010     2101      1830   2213   2552  2704  2569  2852    2825       2799   \n\n   October  November  December   Type  Population  \n0     3462      3168      3135  Fatal   299398484  \n1     3325      3066      2948  Fatal   301621157  \n2     3063      2829      2830  Fatal   304059724  \n3     2622      2512      2411  Fatal   307006550  \n4     2827      2587      2437  Fatal   309327143  ",
      "text/html": "<div>\n<style scoped>\n    .dataframe tbody tr th:only-of-type {\n        vertical-align: middle;\n    }\n\n    .dataframe tbody tr th {\n        vertical-align: top;\n    }\n\n    .dataframe thead th {\n        text-align: right;\n    }\n</style>\n<table border=\"1\" class=\"dataframe\">\n  <thead>\n    <tr style=\"text-align: right;\">\n      <th></th>\n      <th>year</th>\n      <th>January</th>\n      <th>February</th>\n      <th>March</th>\n      <th>April</th>\n      <th>May</th>\n      <th>June</th>\n      <th>July</th>\n      <th>August</th>\n      <th>September</th>\n      <th>October</th>\n      <th>November</th>\n      <th>December</th>\n      <th>Type</th>\n      <th>Population</th>\n    </tr>\n  </thead>\n  <tbody>\n    <tr>\n      <th>0</th>\n      <td>2006</td>\n      <td>2931</td>\n      <td>2695</td>\n      <td>3042</td>\n      <td>3138</td>\n      <td>3345</td>\n      <td>3383</td>\n      <td>3527</td>\n      <td>3474</td>\n      <td>3348</td>\n      <td>3462</td>\n      <td>3168</td>\n      <td>3135</td>\n      <td>Fatal</td>\n      <td>299398484</td>\n    </tr>\n    <tr>\n      <th>1</th>\n      <td>2007</td>\n      <td>2732</td>\n      <td>2618</td>\n      <td>3092</td>\n      <td>3041</td>\n      <td>3312</td>\n      <td>3281</td>\n      <td>3460</td>\n      <td>3325</td>\n      <td>3235</td>\n      <td>3325</td>\n      <td>3066</td>\n      <td>2948</td>\n      <td>Fatal</td>\n      <td>301621157</td>\n    </tr>\n    <tr>\n      <th>2</th>\n      <td>2008</td>\n      <td>2575</td>\n      <td>2586</td>\n      <td>2549</td>\n      <td>2722</td>\n      <td>2887</td>\n      <td>3029</td>\n      <td>3018</td>\n      <td>3224</td>\n      <td>2860</td>\n      <td>3063</td>\n      <td>2829</td>\n      <td>2830</td>\n      <td>Fatal</td>\n      <td>304059724</td>\n    </tr>\n    <tr>\n      <th>3</th>\n      <td>2009</td>\n      <td>2377</td>\n      <td>2167</td>\n      <td>2349</td>\n      <td>2592</td>\n      <td>2780</td>\n      <td>2750</td>\n      <td>2787</td>\n      <td>2865</td>\n      <td>2650</td>\n      <td>2622</td>\n      <td>2512</td>\n      <td>2411</td>\n      <td>Fatal</td>\n      <td>307006550</td>\n    </tr>\n    <tr>\n      <th>4</th>\n      <td>2010</td>\n      <td>2101</td>\n      <td>1830</td>\n      <td>2213</td>\n      <td>2552</td>\n      <td>2704</td>\n      <td>2569</td>\n      <td>2852</td>\n      <td>2825</td>\n      <td>2799</td>\n      <td>2827</td>\n      <td>2587</td>\n      <td>2437</td>\n      <td>Fatal</td>\n      <td>309327143</td>\n    </tr>\n  </tbody>\n</table>\n</div>"
     },
     "execution_count": 3,
     "metadata": {},
     "output_type": "execute_result"
    }
   ],
   "source": [
    "crash_data.head() # look at the top 5 rows of the crash data to get a feel for the structure of the dataframe"
   ]
  },
  {
   "cell_type": "code",
   "execution_count": 4,
   "metadata": {
    "colab": {
     "base_uri": "https://localhost:8080/"
    },
    "executionInfo": {
     "elapsed": 325,
     "status": "ok",
     "timestamp": 1661206118735,
     "user": {
      "displayName": "Maggi Mars",
      "userId": "15664582298795720795"
     },
     "user_tz": 240
    },
    "id": "oKNcZPgsGe3z",
    "outputId": "eb95ebb6-e9e4-4247-809b-b30f27b06659",
    "ExecuteTime": {
     "end_time": "2023-11-13T20:43:34.351585Z",
     "start_time": "2023-11-13T20:43:34.346256Z"
    }
   },
   "outputs": [
    {
     "name": "stdout",
     "output_type": "stream",
     "text": [
      "<class 'pandas.core.frame.DataFrame'>\n",
      "RangeIndex: 45 entries, 0 to 44\n",
      "Data columns (total 15 columns):\n",
      " #   Column      Non-Null Count  Dtype \n",
      "---  ------      --------------  ----- \n",
      " 0   year        45 non-null     int64 \n",
      " 1   January     45 non-null     int64 \n",
      " 2   February    45 non-null     int64 \n",
      " 3   March       45 non-null     int64 \n",
      " 4   April       45 non-null     int64 \n",
      " 5   May         45 non-null     int64 \n",
      " 6   June        45 non-null     int64 \n",
      " 7   July        45 non-null     int64 \n",
      " 8   August      45 non-null     int64 \n",
      " 9   September   45 non-null     int64 \n",
      " 10  October     45 non-null     int64 \n",
      " 11  November    45 non-null     int64 \n",
      " 12  December    45 non-null     int64 \n",
      " 13  Type        45 non-null     object\n",
      " 14  Population  45 non-null     int64 \n",
      "dtypes: int64(14), object(1)\n",
      "memory usage: 5.4+ KB\n"
     ]
    }
   ],
   "source": [
    "crash_data.info() # find out the size of the crash dataframe, types of data, and whether there are missing data"
   ]
  },
  {
   "cell_type": "markdown",
   "metadata": {
    "id": "tlH0j__zGWty"
   },
   "source": [
    "The crash data consists of 15 columns and 45 rows, and is a mixed long/wide dataframe: `year`, `Type` (of crash), and `Population` are in long format, while the number of crashes per month is in wide format with one column for each month. Luckily, there are no missing data to contend with.\n",
    "\n",
    "To get this dataframe ready for plotting and analysis, it will need to be converted to fully long format. In addition, the dates (month and year) will need to be formatted, the total number of crashes for each month/year will need to be computed (sum the number of each crash type: \"Fatal\", \"Injury-causing\", and \" Property-damaging\"), and the total number of crashes per month/year will need to be normalized to the total population that year."
   ]
  },
  {
   "cell_type": "code",
   "execution_count": 5,
   "metadata": {
    "colab": {
     "base_uri": "https://localhost:8080/",
     "height": 206
    },
    "executionInfo": {
     "elapsed": 282,
     "status": "ok",
     "timestamp": 1661206121178,
     "user": {
      "displayName": "Maggi Mars",
      "userId": "15664582298795720795"
     },
     "user_tz": 240
    },
    "id": "jXyYp2vRdzGV",
    "outputId": "90e6cd64-7163-406a-9bd8-b1df27f9ba1a",
    "ExecuteTime": {
     "end_time": "2023-11-13T20:43:46.843274Z",
     "start_time": "2023-11-13T20:43:46.840620Z"
    }
   },
   "outputs": [
    {
     "data": {
      "text/plain": "       Date  Cellphone  Smartphone\n0  10/27/02         62         NaN\n1  11/30/04         65         NaN\n2    2/9/05         66         NaN\n3  12/31/05         67         NaN\n4   3/28/06         66         NaN",
      "text/html": "<div>\n<style scoped>\n    .dataframe tbody tr th:only-of-type {\n        vertical-align: middle;\n    }\n\n    .dataframe tbody tr th {\n        vertical-align: top;\n    }\n\n    .dataframe thead th {\n        text-align: right;\n    }\n</style>\n<table border=\"1\" class=\"dataframe\">\n  <thead>\n    <tr style=\"text-align: right;\">\n      <th></th>\n      <th>Date</th>\n      <th>Cellphone</th>\n      <th>Smartphone</th>\n    </tr>\n  </thead>\n  <tbody>\n    <tr>\n      <th>0</th>\n      <td>10/27/02</td>\n      <td>62</td>\n      <td>NaN</td>\n    </tr>\n    <tr>\n      <th>1</th>\n      <td>11/30/04</td>\n      <td>65</td>\n      <td>NaN</td>\n    </tr>\n    <tr>\n      <th>2</th>\n      <td>2/9/05</td>\n      <td>66</td>\n      <td>NaN</td>\n    </tr>\n    <tr>\n      <th>3</th>\n      <td>12/31/05</td>\n      <td>67</td>\n      <td>NaN</td>\n    </tr>\n    <tr>\n      <th>4</th>\n      <td>3/28/06</td>\n      <td>66</td>\n      <td>NaN</td>\n    </tr>\n  </tbody>\n</table>\n</div>"
     },
     "execution_count": 5,
     "metadata": {},
     "output_type": "execute_result"
    }
   ],
   "source": [
    "phone_data.head() # look at the top 5 rows of the cellphone data to get a feel for the structure of the dataframe"
   ]
  },
  {
   "cell_type": "code",
   "execution_count": null,
   "metadata": {
    "colab": {
     "base_uri": "https://localhost:8080/"
    },
    "executionInfo": {
     "elapsed": 270,
     "status": "ok",
     "timestamp": 1661206123824,
     "user": {
      "displayName": "Maggi Mars",
      "userId": "15664582298795720795"
     },
     "user_tz": 240
    },
    "id": "pKlMgSJ4d32v",
    "outputId": "af5e132c-1b6f-4ef1-fd8a-e60cd74a9474"
   },
   "outputs": [
    {
     "name": "stdout",
     "output_type": "stream",
     "text": [
      "<class 'pandas.core.frame.DataFrame'>\n",
      "RangeIndex: 64 entries, 0 to 63\n",
      "Data columns (total 3 columns):\n",
      " #   Column      Non-Null Count  Dtype  \n",
      "---  ------      --------------  -----  \n",
      " 0   Date        64 non-null     object \n",
      " 1   Cellphone   64 non-null     int64  \n",
      " 2   Smartphone  29 non-null     float64\n",
      "dtypes: float64(1), int64(1), object(1)\n",
      "memory usage: 1.6+ KB\n"
     ]
    }
   ],
   "source": [
    "phone_data.info() # find out the size of the cellphone dataframe, types of data, and whether there are missing data"
   ]
  },
  {
   "cell_type": "markdown",
   "metadata": {
    "id": "UHRyfrUmQrcO"
   },
   "source": [
    "The cellphone data consists of 3 columns and 64 rows. The `Date` column will need to be converted to the date data type. The `Cellphone` and `Smartphone` columns are both percents of the adult American population and do not need to be adjusted. There are quite a few missing data points in the `Smartphone` column.\n"
   ]
  },
  {
   "cell_type": "markdown",
   "metadata": {
    "id": "k83sCwaJDvNO"
   },
   "source": [
    "### Data Formatting "
   ]
  },
  {
   "cell_type": "markdown",
   "metadata": {
    "id": "rDgl9RfLwp9C"
   },
   "source": [
    "#### Crash Data\n",
    "\n",
    "The crash data requires a fair bit of formatting. Tasks include: \n",
    "\n",
    "- Pivot from a wide data frame to a long data frame \n",
    "- Format the date column \n",
    "- Sum the different types of crashes for each month \n",
    "- Normalize the number of crashes to the population \n",
    "- Add a column designating the season of the year \n",
    "\n",
    "First up, the dataframe will be converted to a fully long format:"
   ]
  },
  {
   "cell_type": "code",
   "execution_count": 6,
   "metadata": {
    "colab": {
     "base_uri": "https://localhost:8080/",
     "height": 206
    },
    "executionInfo": {
     "elapsed": 318,
     "status": "ok",
     "timestamp": 1661206127989,
     "user": {
      "displayName": "Maggi Mars",
      "userId": "15664582298795720795"
     },
     "user_tz": 240
    },
    "id": "DkpB798pxWMn",
    "outputId": "6ebc3e31-1fc2-4495-d896-2bc8509c226f",
    "ExecuteTime": {
     "end_time": "2023-11-13T20:45:06.065882Z",
     "start_time": "2023-11-13T20:45:06.058685Z"
    }
   },
   "outputs": [
    {
     "data": {
      "text/plain": "   year  Population   Type    Month  value\n0  2006   299398484  Fatal  January   2931\n1  2007   301621157  Fatal  January   2732\n2  2008   304059724  Fatal  January   2575\n3  2009   307006550  Fatal  January   2377\n4  2010   309327143  Fatal  January   2101",
      "text/html": "<div>\n<style scoped>\n    .dataframe tbody tr th:only-of-type {\n        vertical-align: middle;\n    }\n\n    .dataframe tbody tr th {\n        vertical-align: top;\n    }\n\n    .dataframe thead th {\n        text-align: right;\n    }\n</style>\n<table border=\"1\" class=\"dataframe\">\n  <thead>\n    <tr style=\"text-align: right;\">\n      <th></th>\n      <th>year</th>\n      <th>Population</th>\n      <th>Type</th>\n      <th>Month</th>\n      <th>value</th>\n    </tr>\n  </thead>\n  <tbody>\n    <tr>\n      <th>0</th>\n      <td>2006</td>\n      <td>299398484</td>\n      <td>Fatal</td>\n      <td>January</td>\n      <td>2931</td>\n    </tr>\n    <tr>\n      <th>1</th>\n      <td>2007</td>\n      <td>301621157</td>\n      <td>Fatal</td>\n      <td>January</td>\n      <td>2732</td>\n    </tr>\n    <tr>\n      <th>2</th>\n      <td>2008</td>\n      <td>304059724</td>\n      <td>Fatal</td>\n      <td>January</td>\n      <td>2575</td>\n    </tr>\n    <tr>\n      <th>3</th>\n      <td>2009</td>\n      <td>307006550</td>\n      <td>Fatal</td>\n      <td>January</td>\n      <td>2377</td>\n    </tr>\n    <tr>\n      <th>4</th>\n      <td>2010</td>\n      <td>309327143</td>\n      <td>Fatal</td>\n      <td>January</td>\n      <td>2101</td>\n    </tr>\n  </tbody>\n</table>\n</div>"
     },
     "execution_count": 6,
     "metadata": {},
     "output_type": "execute_result"
    }
   ],
   "source": [
    "long_crash_data = pd.melt(crash_data, id_vars=['year', 'Population', 'Type']) # pivot the dataframe from wide to long\n",
    "long_crash_data.rename(columns={ \"variable\" : \"Month\"}, inplace = True) # change the name of the column with months to be \"Month\"\n",
    "long_crash_data.head()"
   ]
  },
  {
   "cell_type": "markdown",
   "metadata": {
    "id": "1WfkFyk0Svu8"
   },
   "source": [
    "Now the crash data is in a fully long format.\n",
    "\n",
    "Next, the date column will be formatted:"
   ]
  },
  {
   "cell_type": "code",
   "execution_count": null,
   "metadata": {
    "colab": {
     "base_uri": "https://localhost:8080/"
    },
    "executionInfo": {
     "elapsed": 3,
     "status": "ok",
     "timestamp": 1661206130182,
     "user": {
      "displayName": "Maggi Mars",
      "userId": "15664582298795720795"
     },
     "user_tz": 240
    },
    "id": "PlgmTU0QyrPZ",
    "outputId": "5ac8b304-0ddd-4ebd-91bf-4a9f320377b2"
   },
   "outputs": [
    {
     "name": "stdout",
     "output_type": "stream",
     "text": [
      "   Population   Type    Month  value       Date\n",
      "0   299398484  Fatal  January   2931 2006-01-01\n",
      "1   301621157  Fatal  January   2732 2007-01-01\n",
      "2   304059724  Fatal  January   2575 2008-01-01\n",
      "3   307006550  Fatal  January   2377 2009-01-01\n",
      "4   309327143  Fatal  January   2101 2010-01-01\n",
      "<class 'pandas.core.frame.DataFrame'>\n",
      "RangeIndex: 540 entries, 0 to 539\n",
      "Data columns (total 5 columns):\n",
      " #   Column      Non-Null Count  Dtype         \n",
      "---  ------      --------------  -----         \n",
      " 0   Population  540 non-null    int64         \n",
      " 1   Type        540 non-null    object        \n",
      " 2   Month       540 non-null    object        \n",
      " 3   value       540 non-null    int64         \n",
      " 4   Date        540 non-null    datetime64[ns]\n",
      "dtypes: datetime64[ns](1), int64(2), object(2)\n",
      "memory usage: 21.2+ KB\n",
      "None\n"
     ]
    }
   ],
   "source": [
    "long_crash_data[\"Month_Year\"] = long_crash_data[\"Month\"] + long_crash_data[\"year\"].astype(str) # concatenate month and year into one column\n",
    "\n",
    "long_crash_data[\"Date\"] = pd.to_datetime(long_crash_data['Month_Year']) # convert month and year to date format\n",
    "\n",
    "long_crash_data.drop(columns = [\"year\", \"Month_Year\"], inplace = True) # clean-up old columns\n",
    "\n",
    "print(long_crash_data.head())\n",
    "print(long_crash_data.info())"
   ]
  },
  {
   "cell_type": "markdown",
   "metadata": {
    "id": "2-e-rKTtTowq"
   },
   "source": [
    "Now there is a `Date` column that includes the month and year is the data type `datetime64`.\n",
    "\n",
    "Next, the total number of crashes (including all three types) will be computed for each month:"
   ]
  },
  {
   "cell_type": "code",
   "execution_count": null,
   "metadata": {
    "colab": {
     "base_uri": "https://localhost:8080/",
     "height": 206
    },
    "executionInfo": {
     "elapsed": 414,
     "status": "ok",
     "timestamp": 1661206132973,
     "user": {
      "displayName": "Maggi Mars",
      "userId": "15664582298795720795"
     },
     "user_tz": 240
    },
    "id": "KLxbt5NA1fLP",
    "outputId": "30b77f54-ee93-4b32-e0ac-4e0b6570ddad"
   },
   "outputs": [
    {
     "data": {
      "text/html": [
       "\n",
       "  <div id=\"df-965bb5df-f782-4be9-85c9-16d2e11077b6\">\n",
       "    <div class=\"colab-df-container\">\n",
       "      <div>\n",
       "<style scoped>\n",
       "    .dataframe tbody tr th:only-of-type {\n",
       "        vertical-align: middle;\n",
       "    }\n",
       "\n",
       "    .dataframe tbody tr th {\n",
       "        vertical-align: top;\n",
       "    }\n",
       "\n",
       "    .dataframe thead th {\n",
       "        text-align: right;\n",
       "    }\n",
       "</style>\n",
       "<table border=\"1\" class=\"dataframe\">\n",
       "  <thead>\n",
       "    <tr style=\"text-align: right;\">\n",
       "      <th></th>\n",
       "      <th>Date</th>\n",
       "      <th>Population</th>\n",
       "      <th>Month</th>\n",
       "      <th>value</th>\n",
       "    </tr>\n",
       "  </thead>\n",
       "  <tbody>\n",
       "    <tr>\n",
       "      <th>0</th>\n",
       "      <td>2006-01-01</td>\n",
       "      <td>299398484</td>\n",
       "      <td>January</td>\n",
       "      <td>506512</td>\n",
       "    </tr>\n",
       "    <tr>\n",
       "      <th>1</th>\n",
       "      <td>2006-02-01</td>\n",
       "      <td>299398484</td>\n",
       "      <td>February</td>\n",
       "      <td>461160</td>\n",
       "    </tr>\n",
       "    <tr>\n",
       "      <th>2</th>\n",
       "      <td>2006-03-01</td>\n",
       "      <td>299398484</td>\n",
       "      <td>March</td>\n",
       "      <td>478828</td>\n",
       "    </tr>\n",
       "    <tr>\n",
       "      <th>3</th>\n",
       "      <td>2006-04-01</td>\n",
       "      <td>299398484</td>\n",
       "      <td>April</td>\n",
       "      <td>466287</td>\n",
       "    </tr>\n",
       "    <tr>\n",
       "      <th>4</th>\n",
       "      <td>2006-05-01</td>\n",
       "      <td>299398484</td>\n",
       "      <td>May</td>\n",
       "      <td>503526</td>\n",
       "    </tr>\n",
       "  </tbody>\n",
       "</table>\n",
       "</div>\n",
       "      <button class=\"colab-df-convert\" onclick=\"convertToInteractive('df-965bb5df-f782-4be9-85c9-16d2e11077b6')\"\n",
       "              title=\"Convert this dataframe to an interactive table.\"\n",
       "              style=\"display:none;\">\n",
       "        \n",
       "  <svg xmlns=\"http://www.w3.org/2000/svg\" height=\"24px\"viewBox=\"0 0 24 24\"\n",
       "       width=\"24px\">\n",
       "    <path d=\"M0 0h24v24H0V0z\" fill=\"none\"/>\n",
       "    <path d=\"M18.56 5.44l.94 2.06.94-2.06 2.06-.94-2.06-.94-.94-2.06-.94 2.06-2.06.94zm-11 1L8.5 8.5l.94-2.06 2.06-.94-2.06-.94L8.5 2.5l-.94 2.06-2.06.94zm10 10l.94 2.06.94-2.06 2.06-.94-2.06-.94-.94-2.06-.94 2.06-2.06.94z\"/><path d=\"M17.41 7.96l-1.37-1.37c-.4-.4-.92-.59-1.43-.59-.52 0-1.04.2-1.43.59L10.3 9.45l-7.72 7.72c-.78.78-.78 2.05 0 2.83L4 21.41c.39.39.9.59 1.41.59.51 0 1.02-.2 1.41-.59l7.78-7.78 2.81-2.81c.8-.78.8-2.07 0-2.86zM5.41 20L4 18.59l7.72-7.72 1.47 1.35L5.41 20z\"/>\n",
       "  </svg>\n",
       "      </button>\n",
       "      \n",
       "  <style>\n",
       "    .colab-df-container {\n",
       "      display:flex;\n",
       "      flex-wrap:wrap;\n",
       "      gap: 12px;\n",
       "    }\n",
       "\n",
       "    .colab-df-convert {\n",
       "      background-color: #E8F0FE;\n",
       "      border: none;\n",
       "      border-radius: 50%;\n",
       "      cursor: pointer;\n",
       "      display: none;\n",
       "      fill: #1967D2;\n",
       "      height: 32px;\n",
       "      padding: 0 0 0 0;\n",
       "      width: 32px;\n",
       "    }\n",
       "\n",
       "    .colab-df-convert:hover {\n",
       "      background-color: #E2EBFA;\n",
       "      box-shadow: 0px 1px 2px rgba(60, 64, 67, 0.3), 0px 1px 3px 1px rgba(60, 64, 67, 0.15);\n",
       "      fill: #174EA6;\n",
       "    }\n",
       "\n",
       "    [theme=dark] .colab-df-convert {\n",
       "      background-color: #3B4455;\n",
       "      fill: #D2E3FC;\n",
       "    }\n",
       "\n",
       "    [theme=dark] .colab-df-convert:hover {\n",
       "      background-color: #434B5C;\n",
       "      box-shadow: 0px 1px 3px 1px rgba(0, 0, 0, 0.15);\n",
       "      filter: drop-shadow(0px 1px 2px rgba(0, 0, 0, 0.3));\n",
       "      fill: #FFFFFF;\n",
       "    }\n",
       "  </style>\n",
       "\n",
       "      <script>\n",
       "        const buttonEl =\n",
       "          document.querySelector('#df-965bb5df-f782-4be9-85c9-16d2e11077b6 button.colab-df-convert');\n",
       "        buttonEl.style.display =\n",
       "          google.colab.kernel.accessAllowed ? 'block' : 'none';\n",
       "\n",
       "        async function convertToInteractive(key) {\n",
       "          const element = document.querySelector('#df-965bb5df-f782-4be9-85c9-16d2e11077b6');\n",
       "          const dataTable =\n",
       "            await google.colab.kernel.invokeFunction('convertToInteractive',\n",
       "                                                     [key], {});\n",
       "          if (!dataTable) return;\n",
       "\n",
       "          const docLinkHtml = 'Like what you see? Visit the ' +\n",
       "            '<a target=\"_blank\" href=https://colab.research.google.com/notebooks/data_table.ipynb>data table notebook</a>'\n",
       "            + ' to learn more about interactive tables.';\n",
       "          element.innerHTML = '';\n",
       "          dataTable['output_type'] = 'display_data';\n",
       "          await google.colab.output.renderOutput(dataTable, element);\n",
       "          const docLink = document.createElement('div');\n",
       "          docLink.innerHTML = docLinkHtml;\n",
       "          element.appendChild(docLink);\n",
       "        }\n",
       "      </script>\n",
       "    </div>\n",
       "  </div>\n",
       "  "
      ],
      "text/plain": [
       "        Date  Population     Month   value\n",
       "0 2006-01-01   299398484   January  506512\n",
       "1 2006-02-01   299398484  February  461160\n",
       "2 2006-03-01   299398484     March  478828\n",
       "3 2006-04-01   299398484     April  466287\n",
       "4 2006-05-01   299398484       May  503526"
      ]
     },
     "execution_count": 39,
     "metadata": {},
     "output_type": "execute_result"
    }
   ],
   "source": [
    "summed_crash_data = long_crash_data.groupby(['Date', 'Population', 'Month'], as_index = False)[\"value\"].sum() # sum the different types of crashes for each date\n",
    "\n",
    "summed_crash_data.head()"
   ]
  },
  {
   "cell_type": "markdown",
   "metadata": {
    "id": "1e6HNF__UNtV"
   },
   "source": [
    "There is no longer a `Type` column and the `value` (number of crashes) was summed for all three types of crashes for each date.\n",
    "\n",
    "Next, the number of crashes will be normalized to population size (per 100,000 people):\n"
   ]
  },
  {
   "cell_type": "code",
   "execution_count": null,
   "metadata": {
    "colab": {
     "base_uri": "https://localhost:8080/",
     "height": 206
    },
    "executionInfo": {
     "elapsed": 408,
     "status": "ok",
     "timestamp": 1661206135840,
     "user": {
      "displayName": "Maggi Mars",
      "userId": "15664582298795720795"
     },
     "user_tz": 240
    },
    "id": "2UKMLauc3GiQ",
    "outputId": "1b52b64f-5c97-40da-c478-e7d7a96483b2"
   },
   "outputs": [
    {
     "data": {
      "text/html": [
       "\n",
       "  <div id=\"df-058d40a1-7d60-41a9-88c1-441d2897449f\">\n",
       "    <div class=\"colab-df-container\">\n",
       "      <div>\n",
       "<style scoped>\n",
       "    .dataframe tbody tr th:only-of-type {\n",
       "        vertical-align: middle;\n",
       "    }\n",
       "\n",
       "    .dataframe tbody tr th {\n",
       "        vertical-align: top;\n",
       "    }\n",
       "\n",
       "    .dataframe thead th {\n",
       "        text-align: right;\n",
       "    }\n",
       "</style>\n",
       "<table border=\"1\" class=\"dataframe\">\n",
       "  <thead>\n",
       "    <tr style=\"text-align: right;\">\n",
       "      <th></th>\n",
       "      <th>Date</th>\n",
       "      <th>Month</th>\n",
       "      <th>Crashes_per_100k</th>\n",
       "    </tr>\n",
       "  </thead>\n",
       "  <tbody>\n",
       "    <tr>\n",
       "      <th>0</th>\n",
       "      <td>2006-01-01</td>\n",
       "      <td>January</td>\n",
       "      <td>169.176541</td>\n",
       "    </tr>\n",
       "    <tr>\n",
       "      <th>1</th>\n",
       "      <td>2006-02-01</td>\n",
       "      <td>February</td>\n",
       "      <td>154.028836</td>\n",
       "    </tr>\n",
       "    <tr>\n",
       "      <th>2</th>\n",
       "      <td>2006-03-01</td>\n",
       "      <td>March</td>\n",
       "      <td>159.930002</td>\n",
       "    </tr>\n",
       "    <tr>\n",
       "      <th>3</th>\n",
       "      <td>2006-04-01</td>\n",
       "      <td>April</td>\n",
       "      <td>155.741270</td>\n",
       "    </tr>\n",
       "    <tr>\n",
       "      <th>4</th>\n",
       "      <td>2006-05-01</td>\n",
       "      <td>May</td>\n",
       "      <td>168.179208</td>\n",
       "    </tr>\n",
       "  </tbody>\n",
       "</table>\n",
       "</div>\n",
       "      <button class=\"colab-df-convert\" onclick=\"convertToInteractive('df-058d40a1-7d60-41a9-88c1-441d2897449f')\"\n",
       "              title=\"Convert this dataframe to an interactive table.\"\n",
       "              style=\"display:none;\">\n",
       "        \n",
       "  <svg xmlns=\"http://www.w3.org/2000/svg\" height=\"24px\"viewBox=\"0 0 24 24\"\n",
       "       width=\"24px\">\n",
       "    <path d=\"M0 0h24v24H0V0z\" fill=\"none\"/>\n",
       "    <path d=\"M18.56 5.44l.94 2.06.94-2.06 2.06-.94-2.06-.94-.94-2.06-.94 2.06-2.06.94zm-11 1L8.5 8.5l.94-2.06 2.06-.94-2.06-.94L8.5 2.5l-.94 2.06-2.06.94zm10 10l.94 2.06.94-2.06 2.06-.94-2.06-.94-.94-2.06-.94 2.06-2.06.94z\"/><path d=\"M17.41 7.96l-1.37-1.37c-.4-.4-.92-.59-1.43-.59-.52 0-1.04.2-1.43.59L10.3 9.45l-7.72 7.72c-.78.78-.78 2.05 0 2.83L4 21.41c.39.39.9.59 1.41.59.51 0 1.02-.2 1.41-.59l7.78-7.78 2.81-2.81c.8-.78.8-2.07 0-2.86zM5.41 20L4 18.59l7.72-7.72 1.47 1.35L5.41 20z\"/>\n",
       "  </svg>\n",
       "      </button>\n",
       "      \n",
       "  <style>\n",
       "    .colab-df-container {\n",
       "      display:flex;\n",
       "      flex-wrap:wrap;\n",
       "      gap: 12px;\n",
       "    }\n",
       "\n",
       "    .colab-df-convert {\n",
       "      background-color: #E8F0FE;\n",
       "      border: none;\n",
       "      border-radius: 50%;\n",
       "      cursor: pointer;\n",
       "      display: none;\n",
       "      fill: #1967D2;\n",
       "      height: 32px;\n",
       "      padding: 0 0 0 0;\n",
       "      width: 32px;\n",
       "    }\n",
       "\n",
       "    .colab-df-convert:hover {\n",
       "      background-color: #E2EBFA;\n",
       "      box-shadow: 0px 1px 2px rgba(60, 64, 67, 0.3), 0px 1px 3px 1px rgba(60, 64, 67, 0.15);\n",
       "      fill: #174EA6;\n",
       "    }\n",
       "\n",
       "    [theme=dark] .colab-df-convert {\n",
       "      background-color: #3B4455;\n",
       "      fill: #D2E3FC;\n",
       "    }\n",
       "\n",
       "    [theme=dark] .colab-df-convert:hover {\n",
       "      background-color: #434B5C;\n",
       "      box-shadow: 0px 1px 3px 1px rgba(0, 0, 0, 0.15);\n",
       "      filter: drop-shadow(0px 1px 2px rgba(0, 0, 0, 0.3));\n",
       "      fill: #FFFFFF;\n",
       "    }\n",
       "  </style>\n",
       "\n",
       "      <script>\n",
       "        const buttonEl =\n",
       "          document.querySelector('#df-058d40a1-7d60-41a9-88c1-441d2897449f button.colab-df-convert');\n",
       "        buttonEl.style.display =\n",
       "          google.colab.kernel.accessAllowed ? 'block' : 'none';\n",
       "\n",
       "        async function convertToInteractive(key) {\n",
       "          const element = document.querySelector('#df-058d40a1-7d60-41a9-88c1-441d2897449f');\n",
       "          const dataTable =\n",
       "            await google.colab.kernel.invokeFunction('convertToInteractive',\n",
       "                                                     [key], {});\n",
       "          if (!dataTable) return;\n",
       "\n",
       "          const docLinkHtml = 'Like what you see? Visit the ' +\n",
       "            '<a target=\"_blank\" href=https://colab.research.google.com/notebooks/data_table.ipynb>data table notebook</a>'\n",
       "            + ' to learn more about interactive tables.';\n",
       "          element.innerHTML = '';\n",
       "          dataTable['output_type'] = 'display_data';\n",
       "          await google.colab.output.renderOutput(dataTable, element);\n",
       "          const docLink = document.createElement('div');\n",
       "          docLink.innerHTML = docLinkHtml;\n",
       "          element.appendChild(docLink);\n",
       "        }\n",
       "      </script>\n",
       "    </div>\n",
       "  </div>\n",
       "  "
      ],
      "text/plain": [
       "        Date     Month  Crashes_per_100k\n",
       "0 2006-01-01   January        169.176541\n",
       "1 2006-02-01  February        154.028836\n",
       "2 2006-03-01     March        159.930002\n",
       "3 2006-04-01     April        155.741270\n",
       "4 2006-05-01       May        168.179208"
      ]
     },
     "execution_count": 40,
     "metadata": {},
     "output_type": "execute_result"
    }
   ],
   "source": [
    "summed_crash_data[\"Pop_100k\"] = summed_crash_data[\"Population\"] / 100000 # get the population as number of 100s of thousands \n",
    "summed_crash_data[\"Crashes_per_100k\"] = summed_crash_data[\"value\"] / summed_crash_data[\"Pop_100k\"] # normalize the crash counts to per 100 thousand people\n",
    "\n",
    "\n",
    "summed_crash_data.drop(columns = [\"Population\", \"value\", \"Pop_100k\"], inplace = True) # clean-up old columns\n",
    "\n",
    "summed_crash_data.head()"
   ]
  },
  {
   "cell_type": "markdown",
   "metadata": {
    "id": "UFrlegPWVCpg"
   },
   "source": [
    "Finally, another column, `Season` will be added based on the `Month` column. By adding this column it will be possible to test whether more crashes occur in certain seasons."
   ]
  },
  {
   "cell_type": "code",
   "execution_count": null,
   "metadata": {
    "colab": {
     "base_uri": "https://localhost:8080/"
    },
    "executionInfo": {
     "elapsed": 3,
     "status": "ok",
     "timestamp": 1661206138248,
     "user": {
      "displayName": "Maggi Mars",
      "userId": "15664582298795720795"
     },
     "user_tz": 240
    },
    "id": "PqkEJLoQ7j8n",
    "outputId": "cf7c493c-2099-4680-8c24-6009407e5e69"
   },
   "outputs": [
    {
     "name": "stdout",
     "output_type": "stream",
     "text": [
      "        Date  Crashes_per_100k  Season\n",
      "0 2006-01-01        169.176541  Winter\n",
      "1 2006-02-01        154.028836  Winter\n",
      "2 2006-03-01        159.930002  Spring\n",
      "3 2006-04-01        155.741270  Spring\n",
      "4 2006-05-01        168.179208  Spring\n",
      "<class 'pandas.core.frame.DataFrame'>\n",
      "RangeIndex: 180 entries, 0 to 179\n",
      "Data columns (total 3 columns):\n",
      " #   Column            Non-Null Count  Dtype         \n",
      "---  ------            --------------  -----         \n",
      " 0   Date              180 non-null    datetime64[ns]\n",
      " 1   Crashes_per_100k  180 non-null    float64       \n",
      " 2   Season            180 non-null    object        \n",
      "dtypes: datetime64[ns](1), float64(1), object(1)\n",
      "memory usage: 4.3+ KB\n",
      "None\n"
     ]
    }
   ],
   "source": [
    "# create a dictionary designating each month to one season\n",
    "season_dict = {\n",
    "    'December' : 'Winter',\n",
    "    \"January\" :\"Winter\",\n",
    "    \"February\" :\"Winter\",\n",
    "    \"March\" :\"Spring\",\n",
    "    \"April\": \"Spring\",\n",
    "    \"May\" :\"Spring\",\n",
    "    \"June\": \"Summer\",\n",
    "    \"July\": \"Summer\",\n",
    "    \"August\" :\"Summer\",\n",
    "    \"September\" :\"Fall\",\n",
    "    \"October\": \"Fall\",\n",
    "    \"November\" :\"Fall\"\n",
    "}\n",
    "\n",
    "summed_crash_data[\"Season\"] = summed_crash_data['Month'].map(season_dict) # create new column 'Season' based on the month\n",
    "summed_crash_data.drop(columns = [\"Month\"], inplace = True) # clean-up old columns\n",
    "\n",
    "print(summed_crash_data.head())\n",
    "print(summed_crash_data.info())"
   ]
  },
  {
   "cell_type": "markdown",
   "metadata": {
    "id": "iCEJC85xYFpb"
   },
   "source": [
    "The formatted crash dataframe has 3 columns and 180 rows. The `Crashes_per_100k` has the total number of car crashes (regardless of type) for each month of every year from 2006 to 2020 normalized to population."
   ]
  },
  {
   "cell_type": "markdown",
   "metadata": {
    "id": "-1m87sg-CfA7"
   },
   "source": [
    "#### Smartphone data\n",
    "\n",
    "The smartphone data requires considerably less formatting. The main task is to format the date column as `datetime64`: "
   ]
  },
  {
   "cell_type": "code",
   "execution_count": null,
   "metadata": {
    "id": "RYn2rGxGzXt0"
   },
   "outputs": [],
   "source": [
    "phone_data['Date'] = pd.to_datetime(phone_data['Date'])"
   ]
  },
  {
   "cell_type": "code",
   "execution_count": null,
   "metadata": {
    "colab": {
     "base_uri": "https://localhost:8080/"
    },
    "executionInfo": {
     "elapsed": 286,
     "status": "ok",
     "timestamp": 1661206147832,
     "user": {
      "displayName": "Maggi Mars",
      "userId": "15664582298795720795"
     },
     "user_tz": 240
    },
    "id": "bRfKQG48yMI4",
    "outputId": "98f8d6b1-3bab-4443-84bf-df447d5088d9"
   },
   "outputs": [
    {
     "name": "stdout",
     "output_type": "stream",
     "text": [
      "<class 'pandas.core.frame.DataFrame'>\n",
      "RangeIndex: 64 entries, 0 to 63\n",
      "Data columns (total 3 columns):\n",
      " #   Column      Non-Null Count  Dtype         \n",
      "---  ------      --------------  -----         \n",
      " 0   Date        64 non-null     datetime64[ns]\n",
      " 1   Cellphone   64 non-null     int64         \n",
      " 2   Smartphone  29 non-null     float64       \n",
      "dtypes: datetime64[ns](1), float64(1), int64(1)\n",
      "memory usage: 1.6 KB\n"
     ]
    }
   ],
   "source": [
    "phone_data.info()"
   ]
  },
  {
   "cell_type": "markdown",
   "metadata": {
    "id": "5JeCMyqTY3n9"
   },
   "source": [
    "The formatted cellphone data still has 3 columns and 64 rows. Additionally, there is still missing data in the `Smartphone` column."
   ]
  },
  {
   "cell_type": "markdown",
   "metadata": {
    "id": "X2ZaGZyRDkeP"
   },
   "source": [
    "### Plotting the data"
   ]
  },
  {
   "cell_type": "markdown",
   "metadata": {
    "id": "cn2fnbsGE019"
   },
   "source": [
    "#### Crash Data"
   ]
  },
  {
   "cell_type": "markdown",
   "metadata": {
    "id": "n19FvfAuZFA0"
   },
   "source": [
    "A scatter plot of the normalized crash data over time will reveal any outliers that need to be considered and will show general trends in the number of car crashes over time."
   ]
  },
  {
   "cell_type": "code",
   "execution_count": null,
   "metadata": {
    "colab": {
     "base_uri": "https://localhost:8080/",
     "height": 279
    },
    "executionInfo": {
     "elapsed": 449,
     "status": "ok",
     "timestamp": 1661206168206,
     "user": {
      "displayName": "Maggi Mars",
      "userId": "15664582298795720795"
     },
     "user_tz": 240
    },
    "id": "YYXGFvZ-ECuL",
    "outputId": "f2b63fc5-562b-468a-81be-fe8456764589"
   },
   "outputs": [
    {
     "data": {
      "image/png": "[encoded data removed]",
      "text/plain": [
       "<Figure size 432x288 with 1 Axes>"
      ]
     },
     "metadata": {
      "needs_background": "light"
     },
     "output_type": "display_data"
    }
   ],
   "source": [
    "plt.figure()\n",
    "sns.scatterplot(x = 'Date', y = 'Crashes_per_100k', hue = \"Season\",\n",
    "                data = summed_crash_data)\n",
    "plt.show()"
   ]
  },
  {
   "cell_type": "markdown",
   "metadata": {
    "id": "8w9nFAElE9z6"
   },
   "source": [
    "The plot shows a sharp decline in the numbers of car crashes in 2020. Clearly, the COVID-19 pandemic, which started in February/March of 2020 in the U.S., had a substantial impact on the number of people driving and crashing. The year 2020 is an outlier and will be removed from future analysis:"
   ]
  },
  {
   "cell_type": "code",
   "execution_count": null,
   "metadata": {
    "colab": {
     "base_uri": "https://localhost:8080/",
     "height": 279
    },
    "executionInfo": {
     "elapsed": 898,
     "status": "ok",
     "timestamp": 1661206171453,
     "user": {
      "displayName": "Maggi Mars",
      "userId": "15664582298795720795"
     },
     "user_tz": 240
    },
    "id": "kX900lgsFkUQ",
    "outputId": "effd710a-612a-4a24-fccc-28c41cb4c9d4"
   },
   "outputs": [
    {
     "data": {
      "image/png": "[encoded data removed]",
      "text/plain": [
       "<Figure size 432x288 with 1 Axes>"
      ]
     },
     "metadata": {
      "needs_background": "light"
     },
     "output_type": "display_data"
    }
   ],
   "source": [
    "summed_crash_data = summed_crash_data[(summed_crash_data['Date'] <= '2020-1-01')] # filter dates after January 2020\n",
    "\n",
    "plt.figure()\n",
    "sns.scatterplot(x = 'Date', y = 'Crashes_per_100k', hue = \"Season\", \n",
    "                data = summed_crash_data)\n",
    "plt.show()"
   ]
  },
  {
   "cell_type": "markdown",
   "metadata": {
    "id": "TL2bcs0uGLaY"
   },
   "source": [
    "Once the outlier year is removed, the overall trend in the crash rate is much more apparent: the number of crashes per 100k people appears to decrease steadily from 2006 until about 2011, when the trend reverses direction and the number of crashes per 100k people starts steadily increasing. There also seems to be a seasonal effect, with more crashes happening in the Fall and Winter than the Spring and Summer. However, the overall trend of falling crash rates before 2011 and rising crash rates after 2011 appears to hold for all four seasons.\n",
    "\n",
    "Now that the dataset is fully cleaned, it can be exported as a `.csv` file that can later be used for causal inference in R: "
   ]
  },
  {
   "cell_type": "code",
   "execution_count": null,
   "metadata": {
    "id": "z8okb4HXGzY_"
   },
   "outputs": [],
   "source": [
    "summed_crash_data.to_csv(\"crash_by_month_cleaned.csv\", index = False)"
   ]
  },
  {
   "cell_type": "markdown",
   "metadata": {
    "id": "vGnY0-zzKWae"
   },
   "source": [
    "#### Smartphone Data"
   ]
  },
  {
   "cell_type": "markdown",
   "metadata": {
    "id": "zcUTsGgSeSWV"
   },
   "source": [
    "Although the cellphone dataset has information about total cellphone usage as well as smartphone usage, the goal of this analysis is focused on determining whether smartphone usage, specifically, caused an increase in car acccidents in the U.S.\n",
    "\n",
    "A scatterplot will show the overall trend in smartphone usage over time:"
   ]
  },
  {
   "cell_type": "code",
   "execution_count": null,
   "metadata": {
    "colab": {
     "base_uri": "https://localhost:8080/",
     "height": 279
    },
    "executionInfo": {
     "elapsed": 337,
     "status": "ok",
     "timestamp": 1661206176829,
     "user": {
      "displayName": "Maggi Mars",
      "userId": "15664582298795720795"
     },
     "user_tz": 240
    },
    "id": "szGPnqpaeFjC",
    "outputId": "f309eae7-890e-450e-9843-4ea22fad3734"
   },
   "outputs": [
    {
     "data": {
      "image/png": "[encoded data removed]",
      "text/plain": [
       "<Figure size 432x288 with 1 Axes>"
      ]
     },
     "metadata": {
      "needs_background": "light"
     },
     "output_type": "display_data"
    }
   ],
   "source": [
    "plt.figure()\n",
    "sns.scatterplot(x = 'Date', y = 'Smartphone', data = phone_data)\n",
    "plt.show()"
   ]
  },
  {
   "cell_type": "markdown",
   "metadata": {
    "id": "Q4PL2IFZe03b"
   },
   "source": [
    "The percentage of American adults that reported using a smartphone increased steadily from 2011, when smartphone usage first started being reported, to about 2017, when usage continued to increase but at an apparently slower rate. Unfortunately, the data and the plot do not show when *exactly* that smartphone usage started taking off. The first iPhone was released in 2007, but did not become popular for a few years after its release. The first Android smartphone was released in 2008, and similarly experienced some lagtime before it gained popularity. However, 2011, with smartphone usage reaching 1/3 of the population and the recognition that the phenomenon is significant enough to record by the Pew Research Center, is a significant year. Therefore, 2011 will be used as the cutpoint in the ensuing causal inference analysis. As this is the key insight from this dataset, it does not need to be exported for further analysis with R."
   ]
  },
  {
   "cell_type": "markdown",
   "metadata": {
    "id": "71IPg3ZTK4mg"
   },
   "source": [
    "### Hypothesis Testing"
   ]
  },
  {
   "cell_type": "markdown",
   "metadata": {
    "id": "k4qYlSjMiBZF"
   },
   "source": [
    "The scatter plot of the crash data revealed a potential trend in the data: it looked like there were more crashes in the fall and winter than in the spring and summer, regardless of year. This is a hypothesis that can be tested with a oneway ANOVA or analysis of variance."
   ]
  },
  {
   "cell_type": "code",
   "execution_count": null,
   "metadata": {
    "id": "RUgqgGJOK6_m"
   },
   "outputs": [],
   "source": [
    "from scipy.stats import f_oneway # import function for oneway ANOVA"
   ]
  },
  {
   "cell_type": "code",
   "execution_count": null,
   "metadata": {
    "id": "cz_-isye-4ek"
   },
   "outputs": [],
   "source": [
    "#subset the crash rates by season\n",
    "winter = summed_crash_data[summed_crash_data['Season']== 'Winter']['Crashes_per_100k']\n",
    "spring = summed_crash_data[summed_crash_data['Season']== 'Spring']['Crashes_per_100k']\n",
    "summer = summed_crash_data[summed_crash_data['Season']== 'Summer']['Crashes_per_100k']\n",
    "fall = summed_crash_data[summed_crash_data['Season']== 'Fall']['Crashes_per_100k']"
   ]
  },
  {
   "cell_type": "code",
   "execution_count": null,
   "metadata": {
    "colab": {
     "base_uri": "https://localhost:8080/"
    },
    "executionInfo": {
     "elapsed": 380,
     "status": "ok",
     "timestamp": 1661206190619,
     "user": {
      "displayName": "Maggi Mars",
      "userId": "15664582298795720795"
     },
     "user_tz": 240
    },
    "id": "4DQmH8BPAnAw",
    "outputId": "683e19d4-804b-4c4e-8342-d23040972db6"
   },
   "outputs": [
    {
     "name": "stdout",
     "output_type": "stream",
     "text": [
      "F_onewayResult(statistic=11.931927554935433, pvalue=4.119913700411912e-07)\n"
     ]
    }
   ],
   "source": [
    "anova_result = f_oneway(winter,spring,summer,fall) #perform the oneway analysis of variance on crash rate based on season\n",
    "print(anova_result)"
   ]
  },
  {
   "cell_type": "markdown",
   "metadata": {
    "id": "2HqEeakXjNK4"
   },
   "source": [
    "In this case, the null hypotheses was that season has no impact on crash rate. Since the *p*-value is so low (much lower than the traditional cut-off of 0.05), the null hypothesis is rejected. The relatively high *F* statistic provides further support for our hypothesis. As a result, it can be concluded that season does impact crash rate. \n",
    "\n",
    "The ANOVA alone cannot indicate which seasons have different crash rates. But since the ANOVA results were statistically significant, it is appropriate to apply an *ad hoc* test, such as Tukey's honestly significant difference (HSD) test that can determine which seasons have statistically significant crash rates from eachother. "
   ]
  },
  {
   "cell_type": "code",
   "execution_count": null,
   "metadata": {
    "id": "7yQ7170yLmDg"
   },
   "outputs": [],
   "source": [
    "from statsmodels.stats.multicomp import pairwise_tukeyhsd #import the function for a pairwise Tukey HSD test"
   ]
  },
  {
   "cell_type": "code",
   "execution_count": null,
   "metadata": {
    "colab": {
     "base_uri": "https://localhost:8080/"
    },
    "executionInfo": {
     "elapsed": 414,
     "status": "ok",
     "timestamp": 1661206195434,
     "user": {
      "displayName": "Maggi Mars",
      "userId": "15664582298795720795"
     },
     "user_tz": 240
    },
    "id": "A33XxD8RBW7_",
    "outputId": "037822c0-136b-41cb-8838-ca2179bc8f92"
   },
   "outputs": [
    {
     "name": "stdout",
     "output_type": "stream",
     "text": [
      " Multiple Comparison of Means - Tukey HSD, FWER=0.05 \n",
      "=====================================================\n",
      "group1 group2 meandiff p-adj   lower    upper  reject\n",
      "-----------------------------------------------------\n",
      "  Fall Spring -10.6271 0.0041 -18.6577 -2.5964   True\n",
      "  Fall Summer -14.3698  0.001 -22.4005 -6.3391   True\n",
      "  Fall Winter   0.5477    0.9  -7.4362  8.5315  False\n",
      "Spring Summer  -3.7427 0.6073 -11.7734   4.288  False\n",
      "Spring Winter  11.1748 0.0021   3.1909 19.1586   True\n",
      "Summer Winter  14.9175  0.001   6.9336 22.9013   True\n",
      "-----------------------------------------------------\n"
     ]
    }
   ],
   "source": [
    "tukeyHSD_results = pairwise_tukeyhsd(endog=summed_crash_data['Crashes_per_100k'], #perform the pairwise Tukey HSD test\n",
    "                          groups=summed_crash_data['Season'],\n",
    "                          alpha=0.05) # the p-value cut-off for statistical significance is defined as 0.05\n",
    "print(tukeyHSD_results)"
   ]
  },
  {
   "cell_type": "markdown",
   "metadata": {
    "id": "7k2i4Zmzk3Tz"
   },
   "source": [
    "Here, the null hypothesis is that there is no difference in crash rate between the two seasons being compared. Based on the results, this null hypothesis can be rejected for Fall/Spring, Fall/Summer, Spring/Winter, and Summer/Winter. To sum up, the crash rate in Fall and Winter is significantly different than in Spring and Summer."
   ]
  }
 ],
 "metadata": {
  "colab": {
   "collapsed_sections": [
    "7ppWLt_7vjD-",
    "1-4q44Tvv5Yr",
    "k83sCwaJDvNO",
    "rDgl9RfLwp9C",
    "-1m87sg-CfA7",
    "cn2fnbsGE019"
   ],
   "provenance": []
  },
  "kernelspec": {
   "display_name": "Python 3",
   "language": "python",
   "name": "python3"
  },
  "language_info": {
   "codemirror_mode": {
    "name": "ipython",
    "version": 3
   },
   "file_extension": ".py",
   "mimetype": "text/x-python",
   "name": "python",
   "nbconvert_exporter": "python",
   "pygments_lexer": "ipython3",
   "version": "3.8.8"
  }
 },
 "nbformat": 4,
 "nbformat_minor": 1
}
